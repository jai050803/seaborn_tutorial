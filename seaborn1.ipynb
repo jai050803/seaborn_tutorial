{
 "cells": [
  {
   "cell_type": "markdown",
   "metadata": {},
   "source": [
    "# Seaborn "
   ]
  },
  {
   "cell_type": "markdown",
   "metadata": {},
   "source": [
    "Seaborn is a python library built on top of matplotlib library to provide data visualization tools.\n",
    "It solve two major problems faced on matplotlib -\n",
    "1. Deafault matplotlib parameters\n",
    "2. Working with dataframes"
   ]
  },
  {
   "cell_type": "markdown",
   "metadata": {},
   "source": [
    "### Installing the Seaborn library"
   ]
  },
  {
   "cell_type": "code",
   "execution_count": null,
   "metadata": {},
   "outputs": [],
   "source": [
    "# pip install seaborn"
   ]
  },
  {
   "cell_type": "markdown",
   "metadata": {},
   "source": [
    "### Importing libraries"
   ]
  },
  {
   "cell_type": "code",
   "execution_count": null,
   "metadata": {},
   "outputs": [],
   "source": [
    "import seaborn as sns\n",
    "import matplotlib.pyplot as plt\n",
    "import pandas as pd\n",
    "import numpy as np\n",
    "from scipy import stats"
   ]
  },
  {
   "cell_type": "markdown",
   "metadata": {},
   "source": [
    "### Importing the dataset\n",
    "\n",
    "Seaborn as its own datasets stored which you can load and use in the program directly"
   ]
  },
  {
   "cell_type": "code",
   "execution_count": null,
   "metadata": {},
   "outputs": [],
   "source": [
    "df = sns.load_dataset(\"iris\")\n",
    "df.head()"
   ]
  },
  {
   "cell_type": "markdown",
   "metadata": {},
   "source": [
    "### To see all the datasets available in seaborn library"
   ]
  },
  {
   "cell_type": "code",
   "execution_count": null,
   "metadata": {},
   "outputs": [],
   "source": [
    "df_names = sns.get_dataset_names()\n",
    "print(df_names)\n",
    "\n",
    "#or simply print(sns.get_dataset_names())"
   ]
  },
  {
   "cell_type": "markdown",
   "metadata": {},
   "source": [
    "### Seaborn - Figure Aesthetics\n",
    "\n",
    "Visualizing data is one step and further m aking the visualized data m ore pleasing is another step Visualization plays a vital role in communicating quantitative insights to an audience to catch their attention.  \n",
    "\n",
    "Seaborn comes with packed customizable themes and high level interface for customizing and controlling look of matplotlib figures.   \n",
    "\n",
    "Aesthetics means a set of principles concerned with the nature and appreciation of \n",
    "beauty, especially in art."
   ]
  },
  {
   "cell_type": "code",
   "execution_count": null,
   "metadata": {},
   "outputs": [],
   "source": [
    "#sin plot with default parameters in matplotlib\n",
    "\n",
    "def sinplot(flip=1):\n",
    "    x = np.linspace(0, 14, 100)\n",
    "    for i in range(1, 5):\n",
    "        plt.plot(x, np.sin(x + i * .5) * (7 - i) * flip) \n",
    "sinplot()\n",
    "plt.show()"
   ]
  },
  {
   "cell_type": "code",
   "execution_count": null,
   "metadata": {},
   "outputs": [],
   "source": [
    "#Same plot but using the seaborn defaults by using sns.set()\n",
    "\n",
    "def sinplot(flip=1):\n",
    "    x = np.linspace(0, 14, 100)\n",
    "    for i in range(1, 5):\n",
    "        plt.plot(x, np.sin(x + i * .5) * (7 - i) * flip) \n",
    "\n",
    "sns.set()\n",
    "sinplot()\n",
    "plt.show()"
   ]
  },
  {
   "cell_type": "markdown",
   "metadata": {},
   "source": [
    "## Set_style() functio\n",
    "\n",
    "U sing this function you can set \n",
    "the them e of the plot. The following themes are available in seaborn -\n",
    "1. White\n",
    "2. Whitegrid\n",
    "3. dark\n",
    "4. ticks\n",
    "5. darkgrid"
   ]
  },
  {
   "cell_type": "code",
   "execution_count": null,
   "metadata": {},
   "outputs": [],
   "source": [
    "def sinplot(flip=1):\n",
    "    x = np.linspace(0, 14, 100)\n",
    "    for i in range(1, 5):\n",
    "        plt.plot(x, np.sin(x + i * .5) * (7 - i) * flip) \n",
    "\n",
    "sns.set_style(\"whitegrid\")\n",
    "sinplot()\n",
    "plt.show()"
   ]
  },
  {
   "cell_type": "markdown",
   "metadata": {},
   "source": [
    "## Removing Axes Spine\n",
    "\n",
    "you can remove the axes spine in white and tick themes using the despine() function - it removes the right and the top spine from the graph "
   ]
  },
  {
   "cell_type": "code",
   "execution_count": null,
   "metadata": {},
   "outputs": [],
   "source": [
    "def sinplot(flip=1):\n",
    "    x = np.linspace(0, 14, 100)\n",
    "    for i in range(1, 5):\n",
    "        plt.plot(x, np.sin(x + i * .5) * (7 - i) * flip) \n",
    "\n",
    "sns.set_style(\"white\")\n",
    "sinplot()\n",
    "# sns.despine()\n",
    "plt.show()"
   ]
  },
  {
   "cell_type": "markdown",
   "metadata": {},
   "source": [
    "### Overriding elements\n",
    "\n",
    "You can pass a dictionary of parameters to set_style() function.\n",
    "Parameters are viewed using sns.axes_style function"
   ]
  },
  {
   "cell_type": "code",
   "execution_count": null,
   "metadata": {},
   "outputs": [],
   "source": [
    "print(sns.axes_style())"
   ]
  },
  {
   "cell_type": "markdown",
   "metadata": {},
   "source": [
    "## Scaling plot elements\n",
    "\n",
    "We can scale the plot using the set_context() function. it take four commands-\n",
    "1. paper\n",
    "2. Notebook (Default)\n",
    "3. Talk\n",
    "4. Poster\n",
    "\n",
    "The output size of the actual plot is bigger in size when com pared to the above plots."
   ]
  },
  {
   "cell_type": "code",
   "execution_count": null,
   "metadata": {},
   "outputs": [],
   "source": [
    "def sinplot(flip=1):\n",
    "    x = np.linspace(0, 14, 100)\n",
    "    for i in range(1, 5):\n",
    "        plt.plot(x, np.sin(x + i * .5) * (7 - i) * flip) \n",
    "\n",
    "sns.set_style(\"darkgrid\", {'axes.axisbelow': False})\n",
    "sinplot()\n",
    "sns.set_context(\"notebook\")\n",
    "sns.despine()\n",
    "plt.show()\n"
   ]
  },
  {
   "cell_type": "markdown",
   "metadata": {},
   "source": [
    "## Color Palette\n",
    "\n",
    "Color plays an im portant role than any other aspect in the visualizations. W hen us ed \n",
    "e ffectively, color adds m ore value to the plot. A palette m eans a flat surface on which a \n",
    "painter arranges and mixes paints."
   ]
  },
  {
   "cell_type": "markdown",
   "metadata": {},
   "source": [
    "Seaborn provides a function called color_palette(), which can be used to give colors to \n",
    "plots and adding m ore aesthetic value to it."
   ]
  },
  {
   "cell_type": "code",
   "execution_count": null,
   "metadata": {},
   "outputs": [],
   "source": [
    "sns.color_palette(palette=None, n_colors=None, desat=None)"
   ]
  },
  {
   "cell_type": "markdown",
   "metadata": {},
   "source": [
    "## Parameters of color_palette \n",
    "1. n_colors - it tells us the number of colors in the paletter. default value is 6\n",
    "2. desat - proportion to desaturate each color\n",
    "\n",
    "Return re fers to the list of R GB tuples. Following are the readily available Seaborn palettes:\n",
    "1. Deep\n",
    "2. Muted\n",
    "3. Bright\n",
    "4. Pastel\n",
    "5. Dark\n",
    "6. Colorblind\n"
   ]
  },
  {
   "cell_type": "markdown",
   "metadata": {},
   "source": [
    "It is hard to decide which palette should be used for a given data set without knowing \n",
    "the characteristics of data. Being aware of it, we will classify the different ways for using \n",
    "color_palette() types:\n",
    "1. qualitative\n",
    "2. sequential\n",
    "3. diverging\n"
   ]
  },
  {
   "cell_type": "markdown",
   "metadata": {},
   "source": [
    "We have another function seaborn.palplot() which deals with color palettes. This \n",
    "function plots the color palette as horizontal array. We will know m ore regarding \n",
    "seaborn.palplot() in the com ing examples."
   ]
  },
  {
   "cell_type": "markdown",
   "metadata": {},
   "source": [
    "### qualitative color palettes\n",
    "\n",
    "Qualitative or categorical palettes are best suitable to plot the categorical data."
   ]
  },
  {
   "cell_type": "code",
   "execution_count": null,
   "metadata": {},
   "outputs": [],
   "source": [
    "current_palette = sns.color_palette()\n",
    "sns.palplot(current_palette)\n",
    "plt.show()"
   ]
  }
 ],
 "metadata": {
  "kernelspec": {
   "display_name": "Python 3",
   "language": "python",
   "name": "python3"
  },
  "language_info": {
   "codemirror_mode": {
    "name": "ipython",
    "version": 3
   },
   "file_extension": ".py",
   "mimetype": "text/x-python",
   "name": "python",
   "nbconvert_exporter": "python",
   "pygments_lexer": "ipython3",
   "version": "3.12.0"
  }
 },
 "nbformat": 4,
 "nbformat_minor": 2
}
